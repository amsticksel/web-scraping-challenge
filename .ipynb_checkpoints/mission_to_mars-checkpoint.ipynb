{
 "cells": [
  {
   "cell_type": "code",
   "execution_count": 1,
   "metadata": {},
   "outputs": [],
   "source": [
    "#import dependencies\n",
    "import pandas as pd\n",
    "from splinter import Browser\n",
    "from bs4 import BeautifulSoup as bs\n",
    "import requests\n",
    "import pymongo"
   ]
  },
  {
   "cell_type": "markdown",
   "metadata": {},
   "source": [
    "### NASA Mars News"
   ]
  },
  {
   "cell_type": "code",
   "execution_count": 2,
   "metadata": {},
   "outputs": [],
   "source": [
    "# URL of page to be scraped\n",
    "url = 'https://mars.nasa.gov/news/'"
   ]
  },
  {
   "cell_type": "code",
   "execution_count": 3,
   "metadata": {},
   "outputs": [],
   "source": [
    "# Retrieve page with the requests module\n",
    "response = requests.get(url)"
   ]
  },
  {
   "cell_type": "code",
   "execution_count": 4,
   "metadata": {},
   "outputs": [],
   "source": [
    "# Examine the results, then determine element that contains sought info\n",
    "soup = bs(response.text, 'html.parser')"
   ]
  },
  {
   "cell_type": "code",
   "execution_count": 5,
   "metadata": {},
   "outputs": [],
   "source": [
    "titles = soup.find_all('div', class_=\"content_title\")\n",
    "descs = soup.find_all('div', class_=\"rollover_description_inner\")"
   ]
  },
  {
   "cell_type": "code",
   "execution_count": 6,
   "metadata": {},
   "outputs": [],
   "source": [
    "# Print all ten headlines\n",
    "headings = soup.find_all('div', class_=\"content_title\")\n",
    "# A blank list to hold the headlines\n",
    "headlines = []\n",
    "# Loop over td elements\n",
    "for heading in headings:\n",
    "    # If td element has an anchor...\n",
    "    headlines.append(heading.a.get_text(strip=True))                  \n",
    "            \n",
    "\n",
    "descs = soup.find_all('div', class_=\"rollover_description_inner\")\n",
    "# A blank list to hold the headlines\n",
    "descriptions = []\n",
    "# Loop over td elements\n",
    "for desc in descs:\n",
    "    # If td element has an anchor...\n",
    "        descriptions.append(desc.get_text(strip=True))"
   ]
  },
  {
   "cell_type": "code",
   "execution_count": 7,
   "metadata": {},
   "outputs": [
    {
     "name": "stdout",
     "output_type": "stream",
     "text": [
      "['NASA Prepares for Moon and Mars With New Addition to Its Deep Space Network', 'NASA Administrator Statement on Moon to Mars Initiative, FY 2021 Budget', \"NASA's Mars 2020 Rover Closer to Getting Its Name\", 'NASA Invites Students to Name Mars 2020 Rover', \"NASA's Curiosity Mars Rover Finds a Clay Cache\", 'Why This Martian Full Moon Looks Like Candy'] ['Robotic spacecraft will be able to communicate with the dish using radio waves and lasers.', \"Jim Bridenstine addresses NASA's ambitious plans for the coming years, including Mars Sample Return.\", \"155 students from across the U.S. have been chosen as semifinalists in NASA's essay contest to name the Mars 2020 rover, and see it launch from Cape Canaveral this July.\", \"Through Nov. 1, K-12 students in the U.S. are encouraged to enter an essay contest to name NASA's next Mars rover.\", 'The rover recently drilled two samples, and both showed the highest levels of clay ever found during the mission.', \"For the first time, NASA's Mars Odyssey orbiter has caught the Martian moon Phobos during a full moon phase. Each color in this new image represents a temperature range detected by Odyssey's infrared camera.\"]\n"
     ]
    }
   ],
   "source": [
    "print(headlines, descriptions)"
   ]
  },
  {
   "cell_type": "markdown",
   "metadata": {},
   "source": [
    "### JPL Mars Space Images - Featured Image"
   ]
  },
  {
   "cell_type": "code",
   "execution_count": 8,
   "metadata": {},
   "outputs": [],
   "source": [
    "executable_path = {'executable_path': '/usr/local/bin/chromedriver'}\n",
    "browser = Browser('chrome', **executable_path, headless=False)\n",
    "url2 = 'https://www.jpl.nasa.gov/spaceimages/?search=&category=Mars'\n",
    "browser.visit(url2)"
   ]
  },
  {
   "cell_type": "code",
   "execution_count": 9,
   "metadata": {},
   "outputs": [],
   "source": [
    "response = requests.get(url2)\n",
    "soup = bs(response.text, 'html.parser')\n"
   ]
  },
  {
   "cell_type": "code",
   "execution_count": null,
   "metadata": {},
   "outputs": [],
   "source": []
  },
  {
   "cell_type": "code",
   "execution_count": 10,
   "metadata": {},
   "outputs": [
    {
     "name": "stdout",
     "output_type": "stream",
     "text": [
      "Scraping Complete! :)\n",
      "Scraping Complete! :)\n",
      "Scraping Complete! :)\n",
      "Scraping Complete! :)\n",
      "Scraping Complete! :)\n"
     ]
    }
   ],
   "source": [
    "big_images = soup.find_all('li', class_='slide')# A blank list to hold the headlines\n",
    "featured_image_url = []\n",
    "\n",
    "\n",
    "for big_image in big_images:\n",
    "    try:\n",
    "        featured_image_url.append(f\"https://www.jpl.nasa.gov{big_image.a['data-fancybox-href']}\")\n",
    "    except:\n",
    "        print(\"Scraping Complete! :)\")"
   ]
  },
  {
   "cell_type": "code",
   "execution_count": 11,
   "metadata": {},
   "outputs": [
    {
     "data": {
      "text/plain": [
       "['https://www.jpl.nasa.gov/spaceimages/images/largesize/PIA23707_hires.jpg',\n",
       " 'https://www.jpl.nasa.gov/spaceimages/images/largesize/PIA23706_hires.jpg',\n",
       " 'https://www.jpl.nasa.gov/spaceimages/images/largesize/PIA23705_hires.jpg',\n",
       " 'https://www.jpl.nasa.gov/spaceimages/images/largesize/PIA23704_hires.jpg',\n",
       " 'https://www.jpl.nasa.gov/spaceimages/images/largesize/PIA23703_hires.jpg',\n",
       " 'https://www.jpl.nasa.gov/spaceimages/images/largesize/PIA23702_hires.jpg',\n",
       " 'https://www.jpl.nasa.gov/spaceimages/images/largesize/PIA23664_hires.jpg',\n",
       " 'https://www.jpl.nasa.gov/spaceimages/images/largesize/PIA23663_hires.jpg',\n",
       " 'https://www.jpl.nasa.gov/spaceimages/images/largesize/PIA23662_hires.jpg',\n",
       " 'https://www.jpl.nasa.gov/spaceimages/images/largesize/PIA23661_hires.jpg',\n",
       " 'https://www.jpl.nasa.gov/spaceimages/images/largesize/PIA23660_hires.jpg',\n",
       " 'https://www.jpl.nasa.gov/spaceimages/images/largesize/PIA23659_hires.jpg',\n",
       " 'https://www.jpl.nasa.gov/spaceimages/images/largesize/PIA23658_hires.jpg',\n",
       " 'https://www.jpl.nasa.gov/spaceimages/images/largesize/PIA23657_hires.jpg',\n",
       " 'https://www.jpl.nasa.gov/spaceimages/images/largesize/PIA23656_hires.jpg',\n",
       " 'https://www.jpl.nasa.gov/spaceimages/images/largesize/PIA23655_hires.jpg',\n",
       " 'https://www.jpl.nasa.gov/spaceimages/images/largesize/PIA23654_hires.jpg',\n",
       " 'https://www.jpl.nasa.gov/spaceimages/images/largesize/PIA23653_hires.jpg',\n",
       " 'https://www.jpl.nasa.gov/spaceimages/images/largesize/PIA23652_hires.jpg',\n",
       " 'https://www.jpl.nasa.gov/spaceimages/images/largesize/PIA23651_hires.jpg',\n",
       " 'https://www.jpl.nasa.gov/spaceimages/images/largesize/PIA23640_hires.jpg',\n",
       " 'https://www.jpl.nasa.gov/spaceimages/images/largesize/PIA23669_hires.jpg',\n",
       " 'https://www.jpl.nasa.gov/spaceimages/images/largesize/PIA23668_hires.jpg',\n",
       " 'https://www.jpl.nasa.gov/spaceimages/images/largesize/PIA23667_hires.jpg',\n",
       " 'https://www.jpl.nasa.gov/spaceimages/images/largesize/PIA23666_hires.jpg',\n",
       " 'https://www.jpl.nasa.gov/spaceimages/images/largesize/PIA23639_hires.jpg',\n",
       " 'https://www.jpl.nasa.gov/spaceimages/images/largesize/PIA23638_hires.jpg',\n",
       " 'https://www.jpl.nasa.gov/spaceimages/images/largesize/PIA23637_hires.jpg',\n",
       " 'https://www.jpl.nasa.gov/spaceimages/images/largesize/PIA23636_hires.jpg',\n",
       " 'https://www.jpl.nasa.gov/spaceimages/images/largesize/PIA23635_hires.jpg',\n",
       " 'https://www.jpl.nasa.gov/spaceimages/images/largesize/PIA23634_hires.jpg',\n",
       " 'https://www.jpl.nasa.gov/spaceimages/images/largesize/PIA23633_hires.jpg']"
      ]
     },
     "execution_count": 11,
     "metadata": {},
     "output_type": "execute_result"
    }
   ],
   "source": [
    "featured_image_url"
   ]
  },
  {
   "cell_type": "markdown",
   "metadata": {},
   "source": [
    "### Mars Weather"
   ]
  },
  {
   "cell_type": "code",
   "execution_count": 12,
   "metadata": {},
   "outputs": [],
   "source": [
    "executable_path = {'executable_path': '/usr/local/bin/chromedriver'}\n",
    "browser = Browser('chrome', **executable_path, headless=False)\n",
    "url3 = 'https://twitter.com/marswxreport?lang=en'\n",
    "browser.visit(url3)"
   ]
  },
  {
   "cell_type": "code",
   "execution_count": 13,
   "metadata": {},
   "outputs": [
    {
     "name": "stdout",
     "output_type": "stream",
     "text": [
      "Scraping Complete! :)\n",
      "['1582984271000', '1582969871000', '1582811472000', '1582739471000', '1582624270000', '1582552269000', '1582451469000', '1582408268000', '1582264271000', '1582235470000', '1582134671000', '1582134666000', '1582079799000', '1581918671000', '1581846670000', '1581789071000', '1581702671000', '1581601867000', '1581515469000', '1581429069000']\n",
      "['InSight sol 447 (2020-02-28) low -92.6ºC (-134.6ºF) high -11.1ºC (12.0ºF)\\nwinds from the SSW at 5.8 m/s (13.1 mph) gusting to 20.2 m/s (45.2 mph)\\npressure at 6.30 hPapic.twitter.com/fKd4VPHImB', 'InSight sol 446 (2020-02-27) low -93.6ºC (-136.5ºF) high -11.3ºC (11.7ºF)\\nwinds from the SSE at 6.2 m/s (14.0 mph) gusting to 20.6 m/s (46.0 mph)\\npressure at 6.30 hPapic.twitter.com/Kv5EZTFAli', 'InSight sol 445 (2020-02-26) low -92.8ºC (-135.0ºF) high -12.8ºC (8.9ºF)\\nwinds from the SSE at 5.9 m/s (13.3 mph) gusting to 21.1 m/s (47.3 mph)\\npressure at 6.30 hPapic.twitter.com/ihFGVkib6L', 'InSight sol 444 (2020-02-25) low -93.8ºC (-136.8ºF) high -12.0ºC (10.5ºF)\\nwinds from the SSW at 6.2 m/s (13.9 mph) gusting to 21.2 m/s (47.4 mph)\\npressure at 6.30 hPapic.twitter.com/UeOmoDjhf3', 'InSight sol 443 (2020-02-24) low -94.8ºC (-138.6ºF) high -12.3ºC (9.8ºF)\\nwinds from the SSE at 7.0 m/s (15.6 mph) gusting to 22.2 m/s (49.6 mph)\\npressure at 6.30 hPapic.twitter.com/aaRx6POMFO', 'InSight sol 442 (2020-02-23) low -94.1ºC (-137.3ºF) high -10.5ºC (13.0ºF)\\nwinds from the SSE at 6.2 m/s (13.8 mph) gusting to 21.1 m/s (47.3 mph)\\npressure at 6.30 hPapic.twitter.com/lfdFlvxVxe', 'InSight sol 441 (2020-02-22) low -95.1ºC (-139.1ºF) high -13.5ºC (7.7ºF)\\nwinds from the SSE at 6.2 m/s (13.8 mph) gusting to 21.0 m/s (47.0 mph)\\npressure at 6.30 hPapic.twitter.com/ztf0TqK14M', 'InSight sol 440 (2020-02-21) low -95.2ºC (-139.3ºF) high -13.0ºC (8.6ºF)\\nwinds from the W at 6.0 m/s (13.4 mph) gusting to 23.7 m/s (52.9 mph)\\npressure at 6.30 hPapic.twitter.com/5uoXVigK0E', 'InSight sol 439 (2020-02-20) low -94.7ºC (-138.4ºF) high -9.3ºC (15.2ºF)\\nwinds from the SSE at 6.5 m/s (14.6 mph) gusting to 23.2 m/s (51.9 mph)\\npressure at 6.30 hPapic.twitter.com/VRiv3fQH9p', 'InSight sol 438 (2020-02-19) low -95.4ºC (-139.7ºF) high -10.0ºC (13.9ºF)\\nwinds from the SSE at 5.9 m/s (13.3 mph) gusting to 22.1 m/s (49.3 mph)\\npressure at 6.30 hPapic.twitter.com/dFu1S5EhpH', 'InSight sol 437 (2020-02-18) low -94.7ºC (-138.5ºF) high -9.9ºC (14.1ºF)\\nwinds from the SSE at 6.2 m/s (13.8 mph) gusting to 21.6 m/s (48.3 mph)\\npressure at 6.30 hPapic.twitter.com/SLsDLVefeh', 'InSight sol 436 (2020-02-17) low -94.4ºC (-137.9ºF) high -11.4ºC (11.4ºF)\\nwinds from the SSE at 6.3 m/s (14.1 mph) gusting to 21.5 m/s (48.1 mph)\\npressure at 6.30 hPa', \"What I particularly love about these backlit images of#Pluto:\\n\\nSee the bumpy irregular surface on the right side of this photo of Pluto's limb?\\n\\nThey're its friggin' *ice mountains*https://twitter.com/ThePlanetaryGuy/status/1229810782394703872…pic.twitter.com/jAHMeDcxWU\", 'InSight sol 435 (2020-02-16) low -93.8ºC (-136.9ºF) high -10.2ºC (13.7ºF)\\nwinds from the SSE at 7.4 m/s (16.5 mph) gusting to 23.0 m/s (51.5 mph)\\npressure at 6.30 hPapic.twitter.com/jPxselhyBR', 'InSight sol 434 (2020-02-15) low -94.5ºC (-138.2ºF) high -7.3ºC (18.8ºF)\\nwinds from the SSE at 7.3 m/s (16.4 mph) gusting to 22.0 m/s (49.2 mph)\\npressure at 6.30 hPapic.twitter.com/NBfGRaZjqg', 'InSight sol 433 (2020-02-14) low -94.2ºC (-137.5ºF) high -8.9ºC (16.0ºF)\\nwinds from the W at 6.1 m/s (13.6 mph) gusting to 21.6 m/s (48.4 mph)\\npressure at 6.30 hPapic.twitter.com/1F89XWUZve', 'InSight sol 432 (2020-02-13) low -94.2ºC (-137.6ºF) high -9.4ºC (15.0ºF)\\nwinds from the W at 5.6 m/s (12.6 mph) gusting to 21.1 m/s (47.3 mph)\\npressure at 6.30 hPapic.twitter.com/1Opa2YuTxe', 'InSight sol 431 (2020-02-12) low -93.9ºC (-137.0ºF) high -11.9ºC (10.6ºF)\\nwinds from the W at 5.7 m/s (12.6 mph) gusting to 21.6 m/s (48.3 mph)\\npressure at 6.30 hPapic.twitter.com/tQzaZRv02G', 'InSight sol 430 (2020-02-11) low -93.3ºC (-135.9ºF) high -13.0ºC (8.6ºF)\\nwinds from the W at 5.9 m/s (13.3 mph) gusting to 21.6 m/s (48.3 mph)\\npressure at 6.30 hPapic.twitter.com/nVorOVQ7ZM', 'InSight sol 429 (2020-02-10) low -94.8ºC (-138.6ºF) high -10.4ºC (13.3ºF)\\nwinds from the W at 6.2 m/s (13.8 mph) gusting to 26.3 m/s (58.8 mph)\\npressure at 6.30 hPapic.twitter.com/1plhb6ADP6']\n"
     ]
    }
   ],
   "source": [
    "response3 = requests.get(url3)\n",
    "soup3 = bs(response3.text, 'html.parser')\n",
    "\n",
    "weather_updates=[]\n",
    "tweet_times=[]\n",
    "weather_tweets = soup3.find_all('div', class_='js-tweet-text-container')# A blank list to hold the headlines\n",
    "weather_times = soup3.find_all('span', class_='_timestamp')# A blank list to hold the headlines\n",
    "\n",
    "\n",
    "for tweet in weather_tweets:\n",
    "    try:\n",
    "        weather_updates.append(tweet.p.get_text(strip=True))\n",
    "        tweet.a.extract()\n",
    "    except:\n",
    "        print(\"Scraping Complete! :)\")\n",
    "        \n",
    "for time in weather_times:\n",
    "    try:\n",
    "        tweet_times.append(time.get('data-time-ms'))\n",
    "    except:\n",
    "        print(\"Scraping Complete! :)\")\n",
    "        \n",
    "print(tweet_times)\n",
    "print(weather_updates)"
   ]
  },
  {
   "cell_type": "code",
   "execution_count": 14,
   "metadata": {},
   "outputs": [],
   "source": [
    "\n",
    "with open('twitterinfo.txt', 'w', encoding='utf-8') as f_out:\n",
    "    f_out.write(soup3.prettify())"
   ]
  },
  {
   "cell_type": "code",
   "execution_count": 15,
   "metadata": {},
   "outputs": [
    {
     "data": {
      "text/plain": [
       "20"
      ]
     },
     "execution_count": 15,
     "metadata": {},
     "output_type": "execute_result"
    }
   ],
   "source": [
    "len(weather_tweets)"
   ]
  },
  {
   "cell_type": "markdown",
   "metadata": {},
   "source": [
    "### Mars Facts"
   ]
  },
  {
   "cell_type": "code",
   "execution_count": 16,
   "metadata": {},
   "outputs": [],
   "source": [
    "url=\"https://space-facts.com/mars/\"\n",
    "tables = pd.read_html(url)\n",
    "tables\n",
    "mars_df=tables[1]"
   ]
  },
  {
   "cell_type": "code",
   "execution_count": 17,
   "metadata": {},
   "outputs": [],
   "source": [
    "mars_df.to_html('mars_data.html',index=False)"
   ]
  },
  {
   "cell_type": "markdown",
   "metadata": {},
   "source": [
    "### Mars Hemispheres"
   ]
  },
  {
   "cell_type": "code",
   "execution_count": 18,
   "metadata": {},
   "outputs": [],
   "source": [
    "executable_path = {'executable_path': '/usr/local/bin/chromedriver'}\n",
    "browser = Browser('chrome', **executable_path, headless=False)\n",
    "url4=\"https://astrogeology.usgs.gov/search/results?q=hemisphere+enhanced&k1=target&v1=Mars\"\n",
    "browser.visit(url4)"
   ]
  },
  {
   "cell_type": "code",
   "execution_count": 19,
   "metadata": {},
   "outputs": [],
   "source": [
    "response4 = requests.get(url4)\n",
    "soup4 = bs(response4.text, 'html.parser')\n",
    "with open('astrogeology2-html.txt', 'w', encoding='utf-8') as f_out:\n",
    "    f_out.write(soup4.prettify())"
   ]
  },
  {
   "cell_type": "code",
   "execution_count": 20,
   "metadata": {},
   "outputs": [
    {
     "name": "stdout",
     "output_type": "stream",
     "text": [
      "['/search/map/Mars/Viking/cerberus_enhanced']\n",
      "['/search/map/Mars/Viking/cerberus_enhanced', '/search/map/Mars/Viking/schiaparelli_enhanced']\n",
      "['/search/map/Mars/Viking/cerberus_enhanced', '/search/map/Mars/Viking/schiaparelli_enhanced', '/search/map/Mars/Viking/syrtis_major_enhanced']\n",
      "['/search/map/Mars/Viking/cerberus_enhanced', '/search/map/Mars/Viking/schiaparelli_enhanced', '/search/map/Mars/Viking/syrtis_major_enhanced', '/search/map/Mars/Viking/valles_marineris_enhanced']\n",
      "['Cerberus Hemisphere Enhanced thumbnail', 'Schiaparelli Hemisphere Enhanced thumbnail', 'Syrtis Major Hemisphere Enhanced thumbnail', 'Valles Marineris Hemisphere Enhanced thumbnail']\n",
      "['Cerberus Hemisphere', 'Schiaparelli Hemisphere', 'Syrtis Major Hemisphere', 'Valles Marineris Hemisphere']\n"
     ]
    }
   ],
   "source": [
    "import re\n",
    "links = []\n",
    "img_alt = []\n",
    "image_alts=[]\n",
    "for link in soup4.findAll('a',href=re.compile(\"enhanced\")):\n",
    "    try:\n",
    "        links.append(link.get('href'))\n",
    "        print(links)\n",
    "    except:\n",
    "        print(\"Scraping Complete! :)\")\n",
    "        \n",
    "for name in soup4.findAll('img',alt=re.compile(\"Enhanced\")):\n",
    "    try:\n",
    "        img_alt.append(name.get('alt'))\n",
    "        for i in img_alt:\n",
    "            i.replace(' Enhanced thumbnail', '')\n",
    "    except:\n",
    "        print(\"Scraping Complete! :)\")  \n",
    "print(img_alt)\n",
    "for img in img_alt:\n",
    "    img2 = img.replace(\" Enhanced thumbnail\",'')\n",
    "    image_alts.append(img2)\n",
    "    \n",
    "print(image_alts)\n",
    "\n"
   ]
  },
  {
   "cell_type": "code",
   "execution_count": 21,
   "metadata": {},
   "outputs": [
    {
     "data": {
      "text/plain": [
       "['https://astrogeology.usgs.gov/search/map/Mars/Viking/cerberus_enhanced',\n",
       " 'https://astrogeology.usgs.gov/search/map/Mars/Viking/schiaparelli_enhanced',\n",
       " 'https://astrogeology.usgs.gov/search/map/Mars/Viking/syrtis_major_enhanced',\n",
       " 'https://astrogeology.usgs.gov/search/map/Mars/Viking/valles_marineris_enhanced']"
      ]
     },
     "execution_count": 21,
     "metadata": {},
     "output_type": "execute_result"
    }
   ],
   "source": [
    "final_links=[]\n",
    "\n",
    "for link in links:\n",
    "    final_links.append(f\"https://astrogeology.usgs.gov{link}\")\n",
    "final_links"
   ]
  },
  {
   "cell_type": "code",
   "execution_count": 25,
   "metadata": {},
   "outputs": [
    {
     "name": "stdout",
     "output_type": "stream",
     "text": [
      "['http://astropedia.astrogeology.usgs.gov/download/Mars/Viking/cerberus_enhanced.tif/full.jpg', 'http://astropedia.astrogeology.usgs.gov/download/Mars/Viking/schiaparelli_enhanced.tif/full.jpg', 'http://astropedia.astrogeology.usgs.gov/download/Mars/Viking/syrtis_major_enhanced.tif/full.jpg', 'http://astropedia.astrogeology.usgs.gov/download/Mars/Viking/valles_marineris_enhanced.tif/full.jpg']\n"
     ]
    }
   ],
   "source": [
    "fullsize_image=[]\n",
    "for link in final_links:\n",
    "    executable_path = {'executable_path': '/usr/local/bin/chromedriver'}\n",
    "    browser = Browser('chrome', **executable_path, headless=False)\n",
    "#     browser.visit(link)\n",
    "    response5 = requests.get(link)\n",
    "    soup5 = bs(response5.text, 'html.parser')\n",
    "    \n",
    "    for image in soup5.find_all('a',href=re.compile(\"full.jpg\")):\n",
    "        try:\n",
    "            fullsize_image.append(image.get('href'))\n",
    "        except:\n",
    "            print(\"Scraping Complete! :)\")\n",
    "\n",
    "print(fullsize_image)\n"
   ]
  },
  {
   "cell_type": "code",
   "execution_count": 53,
   "metadata": {},
   "outputs": [
    {
     "name": "stdout",
     "output_type": "stream",
     "text": [
      "[{'title': 'Cerberus Hemisphere', 'img_url': 'http://astropedia.astrogeology.usgs.gov/download/Mars/Viking/cerberus_enhanced.tif/full.jpg'}, {'title': 'Schiaparelli Hemisphere', 'img_url': 'http://astropedia.astrogeology.usgs.gov/download/Mars/Viking/schiaparelli_enhanced.tif/full.jpg'}, {'title': 'Syrtis Major Hemisphere', 'img_url': 'http://astropedia.astrogeology.usgs.gov/download/Mars/Viking/syrtis_major_enhanced.tif/full.jpg'}, {'title': 'Valles Marineris Hemisphere', 'img_url': 'http://astropedia.astrogeology.usgs.gov/download/Mars/Viking/valles_marineris_enhanced.tif/full.jpg'}]\n"
     ]
    }
   ],
   "source": [
    "hemisphere_image_urls = [{'title': a, 'img_url': f} for a, f in zip(image_alts, fullsize_image)]\n",
    "print(hemisphere_image_urls)\n"
   ]
  },
  {
   "cell_type": "code",
   "execution_count": 55,
   "metadata": {},
   "outputs": [
    {
     "name": "stdout",
     "output_type": "stream",
     "text": [
      "['NASA Prepares for Moon and Mars With New Addition to Its Deep Space Network', 'NASA Administrator Statement on Moon to Mars Initiative, FY 2021 Budget', \"NASA's Mars 2020 Rover Closer to Getting Its Name\", 'NASA Invites Students to Name Mars 2020 Rover', \"NASA's Curiosity Mars Rover Finds a Clay Cache\", 'Why This Martian Full Moon Looks Like Candy'] ['Robotic spacecraft will be able to communicate with the dish using radio waves and lasers.', \"Jim Bridenstine addresses NASA's ambitious plans for the coming years, including Mars Sample Return.\", \"155 students from across the U.S. have been chosen as semifinalists in NASA's essay contest to name the Mars 2020 rover, and see it launch from Cape Canaveral this July.\", \"Through Nov. 1, K-12 students in the U.S. are encouraged to enter an essay contest to name NASA's next Mars rover.\", 'The rover recently drilled two samples, and both showed the highest levels of clay ever found during the mission.', \"For the first time, NASA's Mars Odyssey orbiter has caught the Martian moon Phobos during a full moon phase. Each color in this new image represents a temperature range detected by Odyssey's infrared camera.\"]\n"
     ]
    }
   ],
   "source": [
    "### Mars News\n",
    "print(headlines, descriptions)"
   ]
  },
  {
   "cell_type": "code",
   "execution_count": 56,
   "metadata": {},
   "outputs": [
    {
     "data": {
      "text/plain": [
       "['https://www.jpl.nasa.gov/spaceimages/images/largesize/PIA23707_hires.jpg',\n",
       " 'https://www.jpl.nasa.gov/spaceimages/images/largesize/PIA23706_hires.jpg',\n",
       " 'https://www.jpl.nasa.gov/spaceimages/images/largesize/PIA23705_hires.jpg',\n",
       " 'https://www.jpl.nasa.gov/spaceimages/images/largesize/PIA23704_hires.jpg',\n",
       " 'https://www.jpl.nasa.gov/spaceimages/images/largesize/PIA23703_hires.jpg',\n",
       " 'https://www.jpl.nasa.gov/spaceimages/images/largesize/PIA23702_hires.jpg',\n",
       " 'https://www.jpl.nasa.gov/spaceimages/images/largesize/PIA23664_hires.jpg',\n",
       " 'https://www.jpl.nasa.gov/spaceimages/images/largesize/PIA23663_hires.jpg',\n",
       " 'https://www.jpl.nasa.gov/spaceimages/images/largesize/PIA23662_hires.jpg',\n",
       " 'https://www.jpl.nasa.gov/spaceimages/images/largesize/PIA23661_hires.jpg',\n",
       " 'https://www.jpl.nasa.gov/spaceimages/images/largesize/PIA23660_hires.jpg',\n",
       " 'https://www.jpl.nasa.gov/spaceimages/images/largesize/PIA23659_hires.jpg',\n",
       " 'https://www.jpl.nasa.gov/spaceimages/images/largesize/PIA23658_hires.jpg',\n",
       " 'https://www.jpl.nasa.gov/spaceimages/images/largesize/PIA23657_hires.jpg',\n",
       " 'https://www.jpl.nasa.gov/spaceimages/images/largesize/PIA23656_hires.jpg',\n",
       " 'https://www.jpl.nasa.gov/spaceimages/images/largesize/PIA23655_hires.jpg',\n",
       " 'https://www.jpl.nasa.gov/spaceimages/images/largesize/PIA23654_hires.jpg',\n",
       " 'https://www.jpl.nasa.gov/spaceimages/images/largesize/PIA23653_hires.jpg',\n",
       " 'https://www.jpl.nasa.gov/spaceimages/images/largesize/PIA23652_hires.jpg',\n",
       " 'https://www.jpl.nasa.gov/spaceimages/images/largesize/PIA23651_hires.jpg',\n",
       " 'https://www.jpl.nasa.gov/spaceimages/images/largesize/PIA23640_hires.jpg',\n",
       " 'https://www.jpl.nasa.gov/spaceimages/images/largesize/PIA23669_hires.jpg',\n",
       " 'https://www.jpl.nasa.gov/spaceimages/images/largesize/PIA23668_hires.jpg',\n",
       " 'https://www.jpl.nasa.gov/spaceimages/images/largesize/PIA23667_hires.jpg',\n",
       " 'https://www.jpl.nasa.gov/spaceimages/images/largesize/PIA23666_hires.jpg',\n",
       " 'https://www.jpl.nasa.gov/spaceimages/images/largesize/PIA23639_hires.jpg',\n",
       " 'https://www.jpl.nasa.gov/spaceimages/images/largesize/PIA23638_hires.jpg',\n",
       " 'https://www.jpl.nasa.gov/spaceimages/images/largesize/PIA23637_hires.jpg',\n",
       " 'https://www.jpl.nasa.gov/spaceimages/images/largesize/PIA23636_hires.jpg',\n",
       " 'https://www.jpl.nasa.gov/spaceimages/images/largesize/PIA23635_hires.jpg',\n",
       " 'https://www.jpl.nasa.gov/spaceimages/images/largesize/PIA23634_hires.jpg',\n",
       " 'https://www.jpl.nasa.gov/spaceimages/images/largesize/PIA23633_hires.jpg']"
      ]
     },
     "execution_count": 56,
     "metadata": {},
     "output_type": "execute_result"
    }
   ],
   "source": [
    "\n",
    "### JPL Mars Space Images - Featured Image\n",
    "featured_image_url\n",
    "\n"
   ]
  },
  {
   "cell_type": "code",
   "execution_count": 57,
   "metadata": {},
   "outputs": [
    {
     "name": "stdout",
     "output_type": "stream",
     "text": [
      "['1582984271000', '1582969871000', '1582811472000', '1582739471000', '1582624270000', '1582552269000', '1582451469000', '1582408268000', '1582264271000', '1582235470000', '1582134671000', '1582134666000', '1582079799000', '1581918671000', '1581846670000', '1581789071000', '1581702671000', '1581601867000', '1581515469000', '1581429069000']\n",
      "['InSight sol 447 (2020-02-28) low -92.6ºC (-134.6ºF) high -11.1ºC (12.0ºF)\\nwinds from the SSW at 5.8 m/s (13.1 mph) gusting to 20.2 m/s (45.2 mph)\\npressure at 6.30 hPapic.twitter.com/fKd4VPHImB', 'InSight sol 446 (2020-02-27) low -93.6ºC (-136.5ºF) high -11.3ºC (11.7ºF)\\nwinds from the SSE at 6.2 m/s (14.0 mph) gusting to 20.6 m/s (46.0 mph)\\npressure at 6.30 hPapic.twitter.com/Kv5EZTFAli', 'InSight sol 445 (2020-02-26) low -92.8ºC (-135.0ºF) high -12.8ºC (8.9ºF)\\nwinds from the SSE at 5.9 m/s (13.3 mph) gusting to 21.1 m/s (47.3 mph)\\npressure at 6.30 hPapic.twitter.com/ihFGVkib6L', 'InSight sol 444 (2020-02-25) low -93.8ºC (-136.8ºF) high -12.0ºC (10.5ºF)\\nwinds from the SSW at 6.2 m/s (13.9 mph) gusting to 21.2 m/s (47.4 mph)\\npressure at 6.30 hPapic.twitter.com/UeOmoDjhf3', 'InSight sol 443 (2020-02-24) low -94.8ºC (-138.6ºF) high -12.3ºC (9.8ºF)\\nwinds from the SSE at 7.0 m/s (15.6 mph) gusting to 22.2 m/s (49.6 mph)\\npressure at 6.30 hPapic.twitter.com/aaRx6POMFO', 'InSight sol 442 (2020-02-23) low -94.1ºC (-137.3ºF) high -10.5ºC (13.0ºF)\\nwinds from the SSE at 6.2 m/s (13.8 mph) gusting to 21.1 m/s (47.3 mph)\\npressure at 6.30 hPapic.twitter.com/lfdFlvxVxe', 'InSight sol 441 (2020-02-22) low -95.1ºC (-139.1ºF) high -13.5ºC (7.7ºF)\\nwinds from the SSE at 6.2 m/s (13.8 mph) gusting to 21.0 m/s (47.0 mph)\\npressure at 6.30 hPapic.twitter.com/ztf0TqK14M', 'InSight sol 440 (2020-02-21) low -95.2ºC (-139.3ºF) high -13.0ºC (8.6ºF)\\nwinds from the W at 6.0 m/s (13.4 mph) gusting to 23.7 m/s (52.9 mph)\\npressure at 6.30 hPapic.twitter.com/5uoXVigK0E', 'InSight sol 439 (2020-02-20) low -94.7ºC (-138.4ºF) high -9.3ºC (15.2ºF)\\nwinds from the SSE at 6.5 m/s (14.6 mph) gusting to 23.2 m/s (51.9 mph)\\npressure at 6.30 hPapic.twitter.com/VRiv3fQH9p', 'InSight sol 438 (2020-02-19) low -95.4ºC (-139.7ºF) high -10.0ºC (13.9ºF)\\nwinds from the SSE at 5.9 m/s (13.3 mph) gusting to 22.1 m/s (49.3 mph)\\npressure at 6.30 hPapic.twitter.com/dFu1S5EhpH', 'InSight sol 437 (2020-02-18) low -94.7ºC (-138.5ºF) high -9.9ºC (14.1ºF)\\nwinds from the SSE at 6.2 m/s (13.8 mph) gusting to 21.6 m/s (48.3 mph)\\npressure at 6.30 hPapic.twitter.com/SLsDLVefeh', 'InSight sol 436 (2020-02-17) low -94.4ºC (-137.9ºF) high -11.4ºC (11.4ºF)\\nwinds from the SSE at 6.3 m/s (14.1 mph) gusting to 21.5 m/s (48.1 mph)\\npressure at 6.30 hPa', \"What I particularly love about these backlit images of#Pluto:\\n\\nSee the bumpy irregular surface on the right side of this photo of Pluto's limb?\\n\\nThey're its friggin' *ice mountains*https://twitter.com/ThePlanetaryGuy/status/1229810782394703872…pic.twitter.com/jAHMeDcxWU\", 'InSight sol 435 (2020-02-16) low -93.8ºC (-136.9ºF) high -10.2ºC (13.7ºF)\\nwinds from the SSE at 7.4 m/s (16.5 mph) gusting to 23.0 m/s (51.5 mph)\\npressure at 6.30 hPapic.twitter.com/jPxselhyBR', 'InSight sol 434 (2020-02-15) low -94.5ºC (-138.2ºF) high -7.3ºC (18.8ºF)\\nwinds from the SSE at 7.3 m/s (16.4 mph) gusting to 22.0 m/s (49.2 mph)\\npressure at 6.30 hPapic.twitter.com/NBfGRaZjqg', 'InSight sol 433 (2020-02-14) low -94.2ºC (-137.5ºF) high -8.9ºC (16.0ºF)\\nwinds from the W at 6.1 m/s (13.6 mph) gusting to 21.6 m/s (48.4 mph)\\npressure at 6.30 hPapic.twitter.com/1F89XWUZve', 'InSight sol 432 (2020-02-13) low -94.2ºC (-137.6ºF) high -9.4ºC (15.0ºF)\\nwinds from the W at 5.6 m/s (12.6 mph) gusting to 21.1 m/s (47.3 mph)\\npressure at 6.30 hPapic.twitter.com/1Opa2YuTxe', 'InSight sol 431 (2020-02-12) low -93.9ºC (-137.0ºF) high -11.9ºC (10.6ºF)\\nwinds from the W at 5.7 m/s (12.6 mph) gusting to 21.6 m/s (48.3 mph)\\npressure at 6.30 hPapic.twitter.com/tQzaZRv02G', 'InSight sol 430 (2020-02-11) low -93.3ºC (-135.9ºF) high -13.0ºC (8.6ºF)\\nwinds from the W at 5.9 m/s (13.3 mph) gusting to 21.6 m/s (48.3 mph)\\npressure at 6.30 hPapic.twitter.com/nVorOVQ7ZM', 'InSight sol 429 (2020-02-10) low -94.8ºC (-138.6ºF) high -10.4ºC (13.3ºF)\\nwinds from the W at 6.2 m/s (13.8 mph) gusting to 26.3 m/s (58.8 mph)\\npressure at 6.30 hPapic.twitter.com/1plhb6ADP6']\n"
     ]
    }
   ],
   "source": [
    "### Mars Weather\n",
    "print(tweet_times)\n",
    "print(weather_updates)\n"
   ]
  },
  {
   "cell_type": "code",
   "execution_count": 58,
   "metadata": {},
   "outputs": [
    {
     "data": {
      "text/html": [
       "<div>\n",
       "<style scoped>\n",
       "    .dataframe tbody tr th:only-of-type {\n",
       "        vertical-align: middle;\n",
       "    }\n",
       "\n",
       "    .dataframe tbody tr th {\n",
       "        vertical-align: top;\n",
       "    }\n",
       "\n",
       "    .dataframe thead th {\n",
       "        text-align: right;\n",
       "    }\n",
       "</style>\n",
       "<table border=\"1\" class=\"dataframe\">\n",
       "  <thead>\n",
       "    <tr style=\"text-align: right;\">\n",
       "      <th></th>\n",
       "      <th>Mars - Earth Comparison</th>\n",
       "      <th>Mars</th>\n",
       "      <th>Earth</th>\n",
       "    </tr>\n",
       "  </thead>\n",
       "  <tbody>\n",
       "    <tr>\n",
       "      <td>0</td>\n",
       "      <td>Diameter:</td>\n",
       "      <td>6,779 km</td>\n",
       "      <td>12,742 km</td>\n",
       "    </tr>\n",
       "    <tr>\n",
       "      <td>1</td>\n",
       "      <td>Mass:</td>\n",
       "      <td>6.39 × 10^23 kg</td>\n",
       "      <td>5.97 × 10^24 kg</td>\n",
       "    </tr>\n",
       "    <tr>\n",
       "      <td>2</td>\n",
       "      <td>Moons:</td>\n",
       "      <td>2</td>\n",
       "      <td>1</td>\n",
       "    </tr>\n",
       "    <tr>\n",
       "      <td>3</td>\n",
       "      <td>Distance from Sun:</td>\n",
       "      <td>227,943,824 km</td>\n",
       "      <td>149,598,262 km</td>\n",
       "    </tr>\n",
       "    <tr>\n",
       "      <td>4</td>\n",
       "      <td>Length of Year:</td>\n",
       "      <td>687 Earth days</td>\n",
       "      <td>365.24 days</td>\n",
       "    </tr>\n",
       "    <tr>\n",
       "      <td>5</td>\n",
       "      <td>Temperature:</td>\n",
       "      <td>-153 to 20 °C</td>\n",
       "      <td>-88 to 58°C</td>\n",
       "    </tr>\n",
       "  </tbody>\n",
       "</table>\n",
       "</div>"
      ],
      "text/plain": [
       "  Mars - Earth Comparison             Mars            Earth\n",
       "0               Diameter:         6,779 km        12,742 km\n",
       "1                   Mass:  6.39 × 10^23 kg  5.97 × 10^24 kg\n",
       "2                  Moons:                2                1\n",
       "3      Distance from Sun:   227,943,824 km   149,598,262 km\n",
       "4         Length of Year:   687 Earth days      365.24 days\n",
       "5            Temperature:    -153 to 20 °C      -88 to 58°C"
      ]
     },
     "execution_count": 58,
     "metadata": {},
     "output_type": "execute_result"
    }
   ],
   "source": [
    "### Mars Facts\n",
    "mars_df.to_html('mars_data.html',index=False)\n",
    "mars_df"
   ]
  },
  {
   "cell_type": "code",
   "execution_count": 59,
   "metadata": {},
   "outputs": [
    {
     "name": "stdout",
     "output_type": "stream",
     "text": [
      "[{'title': 'Cerberus Hemisphere', 'img_url': 'http://astropedia.astrogeology.usgs.gov/download/Mars/Viking/cerberus_enhanced.tif/full.jpg'}, {'title': 'Schiaparelli Hemisphere', 'img_url': 'http://astropedia.astrogeology.usgs.gov/download/Mars/Viking/schiaparelli_enhanced.tif/full.jpg'}, {'title': 'Syrtis Major Hemisphere', 'img_url': 'http://astropedia.astrogeology.usgs.gov/download/Mars/Viking/syrtis_major_enhanced.tif/full.jpg'}, {'title': 'Valles Marineris Hemisphere', 'img_url': 'http://astropedia.astrogeology.usgs.gov/download/Mars/Viking/valles_marineris_enhanced.tif/full.jpg'}]\n"
     ]
    }
   ],
   "source": [
    "### Mars Hemisphere\n",
    "hemisphere_image_urls = [{'title': a, 'img_url': f} for a, f in zip(image_alts, fullsize_image)]\n",
    "print(hemisphere_image_urls)"
   ]
  },
  {
   "cell_type": "code",
   "execution_count": null,
   "metadata": {},
   "outputs": [],
   "source": []
  }
 ],
 "metadata": {
  "kernelspec": {
   "display_name": "Python 3",
   "language": "python",
   "name": "python3"
  },
  "language_info": {
   "codemirror_mode": {
    "name": "ipython",
    "version": 3
   },
   "file_extension": ".py",
   "mimetype": "text/x-python",
   "name": "python",
   "nbconvert_exporter": "python",
   "pygments_lexer": "ipython3",
   "version": "3.7.4"
  }
 },
 "nbformat": 4,
 "nbformat_minor": 4
}
