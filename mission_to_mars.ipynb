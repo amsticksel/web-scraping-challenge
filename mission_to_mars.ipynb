{
 "cells": [
  {
   "cell_type": "code",
   "execution_count": 6,
   "metadata": {},
   "outputs": [],
   "source": [
    "#import dependencies\n",
    "import pandas as pd\n",
    "from splinter import Browser\n",
    "from bs4 import BeautifulSoup as bs\n",
    "import requests\n",
    "import pymongo"
   ]
  },
  {
   "cell_type": "markdown",
   "metadata": {},
   "source": [
    "### Initializing"
   ]
  },
  {
   "cell_type": "code",
   "execution_count": 24,
   "metadata": {},
   "outputs": [],
   "source": [
    "# URL of page to be scraped\n",
    "executable_path = {'executable_path': '/usr/local/bin/chromedriver'}\n",
    "browser = Browser('chrome', **executable_path, headless=False)\n",
    "\n",
    "#begin with an open dictionary for all mars data\n",
    "mars_data={}"
   ]
  },
  {
   "cell_type": "markdown",
   "metadata": {},
   "source": [
    "### NASA Mars News"
   ]
  },
  {
   "cell_type": "code",
   "execution_count": 76,
   "metadata": {},
   "outputs": [],
   "source": [
    "# Retrieve page with the requests module\n",
    "url = 'https://mars.nasa.gov/news/'\n",
    "response = requests.get(url)"
   ]
  },
  {
   "cell_type": "code",
   "execution_count": 77,
   "metadata": {},
   "outputs": [],
   "source": [
    "# Examine the results, then determine element that contains sought info\n",
    "soup = bs(response.text, 'html.parser')"
   ]
  },
  {
   "cell_type": "code",
   "execution_count": 80,
   "metadata": {},
   "outputs": [
    {
     "name": "stdout",
     "output_type": "stream",
     "text": [
      "['https://mars.nasa.gov/news/8645/mars-helicopter-attached-to-nasas-perseverance-rover/', 'https://mars.nasa.gov/news/8641/nasas-perseverance-mars-rover-gets-its-wheels-and-air-brakes/', 'https://mars.nasa.gov/news/8634/109-million-names-now-aboard-nasas-perseverance-mars-rover/', 'https://mars.nasa.gov/news/8622/virginia-middle-school-student-earns-honor-of-naming-nasas-next-mars-rover/', 'https://mars.nasa.gov/news/8606/nasa-prepares-for-moon-and-mars-with-new-addition-to-its-deep-space-network/', 'https://mars.nasa.gov/news/8603/nasa-administrator-statement-on-moon-to-mars-initiative-fy-2021-budget/']\n"
     ]
    }
   ],
   "source": [
    "# Grab 10 headlines\n",
    "headings = soup.find_all('div', class_=\"content_title\")\n",
    "# A blank list to hold the headlines\n",
    "headlines = []\n",
    "# Loop over grabbed elements\n",
    "for heading in headings:\n",
    "    # If element has an a tag, get text\n",
    "    headlines.append(heading.a.get_text(strip=True))                  \n",
    "\n",
    "#grab the urls\n",
    "news_urls = soup.find_all('div', class_=\"content_title\")\n",
    "for link in news_urls:\n",
    "    news_links.append((\"https://mars.nasa.gov\")+link.a['href'])\n",
    "print(news_links)\n",
    "\n",
    "#grab the descriptions\n",
    "descs = soup.find_all('div', class_=\"rollover_description_inner\")\n",
    "# A blank list to hold the descriptions\n",
    "descriptions = []\n",
    "# Loop over elements\n",
    "for desc in descs:\n",
    "    descriptions.append(desc.get_text(strip=True))"
   ]
  },
  {
   "cell_type": "markdown",
   "metadata": {},
   "source": [
    "### JPL Mars Space Images - Featured Image"
   ]
  },
  {
   "cell_type": "code",
   "execution_count": 30,
   "metadata": {},
   "outputs": [],
   "source": [
    "#visit the url\n",
    "url2 = 'https://www.jpl.nasa.gov/spaceimages/?search=&category=Mars'\n",
    "browser.visit(url2)"
   ]
  },
  {
   "cell_type": "code",
   "execution_count": 35,
   "metadata": {},
   "outputs": [],
   "source": [
    "#examime the html\n",
    "response = requests.get(url2)\n",
    "soup = bs(response.text, 'html.parser')"
   ]
  },
  {
   "cell_type": "code",
   "execution_count": 36,
   "metadata": {},
   "outputs": [
    {
     "name": "stdout",
     "output_type": "stream",
     "text": [
      "Scraping Complete! :)\n",
      "Scraping Complete! :)\n",
      "Scraping Complete! :)\n",
      "Scraping Complete! :)\n",
      "Scraping Complete! :)\n"
     ]
    }
   ],
   "source": [
    "#grab the images with the future url\n",
    "big_images = soup.find_all('li', class_='slide')# A blank list to hold the headlines\n",
    "featured_image_url = []\n",
    "\n",
    "#append the beginning url to the image path\n",
    "for big_image in big_images:\n",
    "    try:\n",
    "        featured_image_url.append(f\"https://www.jpl.nasa.gov{big_image.a['data-fancybox-href']}\")\n",
    "    except:\n",
    "        print(\"Scraping Complete! :)\")"
   ]
  },
  {
   "cell_type": "markdown",
   "metadata": {},
   "source": [
    "### Mars Weather"
   ]
  },
  {
   "cell_type": "code",
   "execution_count": 38,
   "metadata": {},
   "outputs": [],
   "source": [
    "#go to the url\n",
    "url3 = 'https://twitter.com/marswxreport?lang=en'\n",
    "browser.visit(url3)"
   ]
  },
  {
   "cell_type": "code",
   "execution_count": 72,
   "metadata": {},
   "outputs": [
    {
     "name": "stdout",
     "output_type": "stream",
     "text": [
      "Scraping Complete! :)\n",
      "Scraping Complete! :)\n",
      "Scraping Complete! :)\n",
      "Scraping Complete! :)\n",
      "Scraping Complete! :)\n"
     ]
    }
   ],
   "source": [
    "#examine the results\n",
    "response3 = requests.get(url3)\n",
    "soup3 = bs(response3.text, 'html.parser')\n",
    "\n",
    "#find the items based on html\n",
    "weather_updates=[]\n",
    "tweet_times=[]\n",
    "weather_tweets = soup3.find_all('div', class_='js-tweet-text-container')\n",
    "weather_times = soup3.find_all('span', class_='_timestamp')\n",
    "\n",
    "#grab the twets\n",
    "for tweet in weather_tweets:\n",
    "    try:\n",
    "        weather_updates.append(tweet.p.get_text(strip=True))\n",
    "        tweet.a.extract()\n",
    "    except:\n",
    "        print(\"Scraping Complete! :)\")\n",
    "        \n",
    "#grab the timestamp        \n",
    "for time in weather_times:\n",
    "    try:\n",
    "        tweet_times.append(time.get('data-time-ms'))\n",
    "    except:\n",
    "        print(\"Scraping Complete! :)\")"
   ]
  },
  {
   "cell_type": "code",
   "execution_count": 73,
   "metadata": {},
   "outputs": [],
   "source": [
    "#convert timestamp to datetime\n",
    "import datetime\n",
    "tweet_times_dt =[]\n",
    "for tweet in tweet_times:\n",
    "    your_dt = datetime.datetime.fromtimestamp(int(tweet)/1000)\n",
    "    tweet_times_dt.append(your_dt.strftime(\"%Y-%m-%d %H:%M:%S\"))\n",
    "\n",
    "#remove picture url from the tweet\n",
    "weather_updates_fixed = []\n",
    "for update in weather_updates:\n",
    "    nopic = update.split('pic.twitter')[0]\n",
    "    weather_updates_fixed.append(nopic)"
   ]
  },
  {
   "cell_type": "markdown",
   "metadata": {},
   "source": [
    "### Mars Facts"
   ]
  },
  {
   "cell_type": "code",
   "execution_count": 45,
   "metadata": {},
   "outputs": [],
   "source": [
    "#visit the url and grab the table\n",
    "url=\"https://space-facts.com/mars/\"\n",
    "tables = pd.read_html(url)\n",
    "tables\n",
    "mars_df=tables[0]"
   ]
  },
  {
   "cell_type": "code",
   "execution_count": 46,
   "metadata": {},
   "outputs": [],
   "source": [
    "mars_df.to_html('mars_data.html',index=False)"
   ]
  },
  {
   "cell_type": "markdown",
   "metadata": {},
   "source": [
    "### Mars Hemispheres"
   ]
  },
  {
   "cell_type": "code",
   "execution_count": 47,
   "metadata": {},
   "outputs": [],
   "source": [
    "#visit the mars hemispheres url\n",
    "url4=\"https://astrogeology.usgs.gov/search/results?q=hemisphere+enhanced&k1=target&v1=Mars\"\n",
    "browser.visit(url4)"
   ]
  },
  {
   "cell_type": "code",
   "execution_count": 49,
   "metadata": {},
   "outputs": [],
   "source": [
    "response4 = requests.get(url4)\n",
    "soup4 = bs(response4.text, 'html.parser')"
   ]
  },
  {
   "cell_type": "code",
   "execution_count": 69,
   "metadata": {},
   "outputs": [],
   "source": [
    "#looping through the individual image pages\n",
    "import re\n",
    "links = []\n",
    "img_alt = []\n",
    "image_alts=[]\n",
    "for link in soup4.findAll('a',href=re.compile(\"enhanced\")):\n",
    "    try:\n",
    "        links.append(link.get('href'))\n",
    "    except:\n",
    "        print(\"Scraping Complete! :)\")\n",
    "        \n",
    "for name in soup4.findAll('img',alt=re.compile(\"Enhanced\")):\n",
    "    try:\n",
    "        img_alt.append(name.get('alt'))\n",
    "        for i in img_alt:\n",
    "            i.replace(' Enhanced thumbnail', '')\n",
    "    except:\n",
    "        print(\"Scraping Complete! :)\")  \n",
    "for img in img_alt:\n",
    "    img2 = img.replace(\" Enhanced thumbnail\",'')\n",
    "    image_alts.append(img2)"
   ]
  },
  {
   "cell_type": "code",
   "execution_count": 67,
   "metadata": {},
   "outputs": [],
   "source": [
    "#build the full link\n",
    "final_links=[]\n",
    "\n",
    "for link in links:\n",
    "    final_links.append(f\"https://astrogeology.usgs.gov{link}\")"
   ]
  },
  {
   "cell_type": "code",
   "execution_count": 70,
   "metadata": {},
   "outputs": [],
   "source": [
    "#loop through the four links and visit them all to pull image href\n",
    "fullsize_image=[]\n",
    "for link in final_links:\n",
    "\n",
    "    response5 = requests.get(link)\n",
    "    soup5 = bs(response5.text, 'html.parser')\n",
    "    \n",
    "    for image in soup5.find_all('a',href=re.compile(\"full.jpg\")):\n",
    "        try:\n",
    "            fullsize_image.append(image.get('href'))\n",
    "        except:\n",
    "            print(\"Scraping Complete! :)\")\n"
   ]
  },
  {
   "cell_type": "code",
   "execution_count": 63,
   "metadata": {},
   "outputs": [],
   "source": [
    "#zip the url and title into one dictionary\n",
    "hemisphere_image_urls = [{'title': a, 'img_url': f} for a, f in zip(image_alts, fullsize_image)]"
   ]
  },
  {
   "cell_type": "code",
   "execution_count": 66,
   "metadata": {},
   "outputs": [],
   "source": [
    "#zip mars tweets into one dictionary\n",
    "mars_tweets = [{'tweet': b, 'time': c} for b, c in zip(weather_updates_fixed, tweet_times_dt)]"
   ]
  },
  {
   "cell_type": "code",
   "execution_count": 79,
   "metadata": {},
   "outputs": [
    {
     "name": "stdout",
     "output_type": "stream",
     "text": [
      "{'mars_news_headlines': [\"Mars Helicopter Attached to NASA's Perseverance Rover\", \"NASA's Perseverance Mars Rover Gets Its Wheels and Air Brakes\", \"10.9 Million Names Now Aboard NASA's Perseverance Mars Rover\", \"Virginia Middle School Student Earns Honor of Naming NASA's Next Mars Rover\", 'NASA Prepares for Moon and Mars With New Addition to Its Deep Space Network', 'NASA Administrator Statement on Moon to Mars Initiative, FY 2021 Budget'], 'mars_news_desc': [\"The team also fueled the rover's sky crane to get ready for this summer's history-making launch.\", 'After the rover was shipped from JPL to Kennedy Space Center, the team is getting closer to finalizing the spacecraft for launch later this summer.', \"As part of NASA's 'Send Your Name to Mars' campaign, they've been stenciled onto three microchips along with essays from NASA's 'Name the Rover' contest. Next stop: Mars.\", 'NASA chose a seventh-grader from Virginia as winner of the agency\\'s \"Name the Rover\" essay contest. Alexander Mather\\'s entry for \"Perseverance\" was voted tops among 28,000 entries.', 'Robotic spacecraft will be able to communicate with the dish using radio waves and lasers.', \"Jim Bridenstine addresses NASA's ambitious plans for the coming years, including Mars Sample Return.\"], 'mars_image': ['https://www.jpl.nasa.gov/spaceimages/images/largesize/PIA23839_hires.jpg', 'https://www.jpl.nasa.gov/spaceimages/images/largesize/PIA23838_hires.jpg', 'https://www.jpl.nasa.gov/spaceimages/images/largesize/PIA23773_hires.jpg', 'https://www.jpl.nasa.gov/spaceimages/images/largesize/PIA23837_hires.jpg', 'https://www.jpl.nasa.gov/spaceimages/images/largesize/PIA23836_hires.jpg', 'https://www.jpl.nasa.gov/spaceimages/images/largesize/PIA23835_hires.jpg', 'https://www.jpl.nasa.gov/spaceimages/images/largesize/PIA23834_hires.jpg', 'https://www.jpl.nasa.gov/spaceimages/images/largesize/PIA23833_hires.jpg', 'https://www.jpl.nasa.gov/spaceimages/images/largesize/PIA23832_hires.jpg', 'https://www.jpl.nasa.gov/spaceimages/images/largesize/PIA23850_hires.jpg', 'https://www.jpl.nasa.gov/spaceimages/images/largesize/PIA23849_hires.jpg', 'https://www.jpl.nasa.gov/spaceimages/images/largesize/PIA23848_hires.jpg', 'https://www.jpl.nasa.gov/spaceimages/images/largesize/PIA23847_hires.jpg', 'https://www.jpl.nasa.gov/spaceimages/images/largesize/PIA23831_hires.jpg', 'https://www.jpl.nasa.gov/spaceimages/images/largesize/PIA23820_hires.jpg', 'https://www.jpl.nasa.gov/spaceimages/images/largesize/PIA23819_hires.jpg', 'https://www.jpl.nasa.gov/spaceimages/images/largesize/PIA23818_hires.jpg', 'https://www.jpl.nasa.gov/spaceimages/images/largesize/PIA23817_hires.jpg', 'https://www.jpl.nasa.gov/spaceimages/images/largesize/PIA23816_hires.jpg', 'https://www.jpl.nasa.gov/spaceimages/images/largesize/PIA23815_hires.jpg', 'https://www.jpl.nasa.gov/spaceimages/images/largesize/PIA23814_hires.jpg', 'https://www.jpl.nasa.gov/spaceimages/images/largesize/PIA23813_hires.jpg', 'https://www.jpl.nasa.gov/spaceimages/images/largesize/PIA23812_hires.jpg', 'https://www.jpl.nasa.gov/spaceimages/images/largesize/PIA23811_hires.jpg', 'https://www.jpl.nasa.gov/spaceimages/images/largesize/PIA23625_hires.jpg', 'https://www.jpl.nasa.gov/spaceimages/images/largesize/PIA23624_hires.jpg', 'https://www.jpl.nasa.gov/spaceimages/images/largesize/PIA23755_hires.jpg', 'https://www.jpl.nasa.gov/spaceimages/images/largesize/PIA23754_hires.jpg', 'https://www.jpl.nasa.gov/spaceimages/images/largesize/PIA23753_hires.jpg', 'https://www.jpl.nasa.gov/spaceimages/images/largesize/PIA23752_hires.jpg', 'https://www.jpl.nasa.gov/spaceimages/images/largesize/PIA23751_hires.jpg', 'https://www.jpl.nasa.gov/spaceimages/images/largesize/PIA23750_hires.jpg'], 'mars_tweets': [{'tweet': 'InSight sol 495 (2020-04-17) low -94.0ºC (-137.2ºF) high -4.2ºC (24.4ºF)\\nwinds from the WNW at 4.6 m/s (10.4 mph) gusting to 16.7 m/s (37.3 mph)\\npressure at 6.60 hPa', 'time': '2020-04-19 07:51:10'}, {'tweet': 'InSight sol 494 (2020-04-17) low -95.4ºC (-139.8ºF) high -3.7ºC (25.3ºF)\\nwinds from the SW at 4.8 m/s (10.8 mph) gusting to 16.5 m/s (36.8 mph)\\npressure at 6.60 hPa', 'time': '2020-04-18 03:51:15'}, {'tweet': 'InSight sol 493 (2020-04-15) low -94.8ºC (-138.7ºF) high -5.3ºC (22.4ºF)\\nwinds from the WNW at 4.8 m/s (10.7 mph) gusting to 17.1 m/s (38.2 mph)\\npressure at 6.60 hPa', 'time': '2020-04-18 03:51:11'}, {'tweet': 'InSight sol 492 (2020-04-15) low -94.4ºC (-137.9ºF) high -5.5ºC (22.2ºF)\\nwinds from the SW at 5.1 m/s (11.5 mph) gusting to 14.9 m/s (33.3 mph)\\npressure at 6.60 hPa', 'time': '2020-04-15 19:51:15'}, {'tweet': '“It\\'s classic, textbook NASA, We\\'re presented with a problem and we figure out how to make things work. Mars isn\\'t standing still for us; we\\'re still exploring.\" MER Science Operations Team Chief.https://mars.nasa.gov/news/8647/nasas-curiosity-keeps-rolling-as-team-operates-rover-from-home/…', 'time': '2020-04-14 20:26:05'}, {'tweet': 'InSight sol 491 (2020-04-14) low -93.2ºC (-135.7ºF) high -3.6ºC (25.5ºF)\\nwinds from the SW at 5.3 m/s (11.9 mph) gusting to 16.9 m/s (37.8 mph)\\npressure at 6.60 hPa', 'time': '2020-04-14 15:51:14'}, {'tweet': 'InSight sol 490 (2020-04-12) low -94.3ºC (-137.7ºF) high -4.9ºC (23.2ºF)\\nwinds from the WNW at 4.8 m/s (10.6 mph) gusting to 15.3 m/s (34.3 mph)\\npressure at 6.60 hPa', 'time': '2020-04-14 15:51:10'}, {'tweet': 'InSight sol 489 (2020-04-11) low -93.5ºC (-136.2ºF) high -6.5ºC (20.3ºF)\\nwinds from the WNW at 4.8 m/s (10.7 mph) gusting to 17.4 m/s (39.0 mph)\\npressure at 6.60 hPa', 'time': '2020-04-13 23:51:11'}, {'tweet': 'InSight sol 488 (2020-04-10) low -93.8ºC (-136.8ºF) high -19.7ºC (-3.4ºF)\\nwinds from the WNW at 4.6 m/s (10.4 mph) gusting to 13.0 m/s (29.1 mph)\\npressure at 6.60 hPa', 'time': '2020-04-12 19:51:10'}, {'tweet': 'InSight sol 487 (2020-04-09) low -93.5ºC (-136.3ºF) high -6.6ºC (20.0ºF)\\nwinds from the WNW at 4.9 m/s (10.9 mph) gusting to 15.7 m/s (35.1 mph)\\npressure at 6.60 hPa', 'time': '2020-04-12 19:51:07'}, {'tweet': 'InSight sol 486 (2020-04-08) low -94.7ºC (-138.5ºF) high -5.3ºC (22.4ºF)\\nwinds from the SW at 5.0 m/s (11.1 mph) gusting to 17.0 m/s (38.0 mph)\\npressure at 6.60 hPa', 'time': '2020-04-12 19:51:06'}, {'tweet': 'InSight sol 485 (2020-04-07) low -93.4ºC (-136.1ºF) high -7.0ºC (19.4ºF)\\nwinds from the WNW at 5.2 m/s (11.5 mph) gusting to 17.4 m/s (38.9 mph)\\npressure at 6.50 hPa', 'time': '2020-04-08 23:51:13'}, {'tweet': 'Happy 19th launchiversary Mars Odysseyhttps://www.youtube.com/watch?v=jbQ4_Y1qWUc…', 'time': '2020-04-07 20:45:54'}, {'tweet': 'InSight sol 484 (2020-04-06) low -94.3ºC (-137.8ºF) high -7.0ºC (19.3ºF)\\nwinds from the SW at 5.4 m/s (12.1 mph) gusting to 17.3 m/s (38.7 mph)\\npressure at 6.50 hPa', 'time': '2020-04-07 11:51:15'}, {'tweet': 'InSight sol 483 (2020-04-05) low -94.8ºC (-138.7ºF) high -8.4ºC (16.8ºF)\\nwinds from the WNW at 5.3 m/s (12.0 mph) gusting to 18.5 m/s (41.4 mph)\\npressure at 6.50 hPa', 'time': '2020-04-06 19:51:14'}, {'tweet': 'InSight sol 482 (2020-04-04) low -93.1ºC (-135.6ºF) high -6.1ºC (21.1ºF)\\nwinds from the WNW at 4.4 m/s (9.8 mph) gusting to 17.2 m/s (38.4 mph)\\npressure at 6.50 hPa', 'time': '2020-04-06 19:51:10'}, {'tweet': 'InSight sol 481 (2020-04-03) low -93.9ºC (-137.0ºF) high -5.9ºC (21.4ºF)\\nwinds from the WNW at 5.3 m/s (11.8 mph) gusting to 18.3 m/s (40.9 mph)\\npressure at 6.50 hPa', 'time': '2020-04-04 19:51:12'}, {'tweet': 'InSight sol 480 (2020-04-02) low -93.0ºC (-135.5ºF) high -6.7ºC (19.9ºF)\\nwinds from the SW at 5.8 m/s (13.1 mph) gusting to 17.2 m/s (38.5 mph)\\npressure at 6.50 hPa', 'time': '2020-04-03 07:51:11'}, {'tweet': 'InSight sol 479 (2020-04-01) low -93.8ºC (-136.8ºF) high -8.0ºC (17.6ºF)\\nwinds from the SW at 5.3 m/s (11.8 mph) gusting to 18.3 m/s (41.0 mph)\\npressure at 6.50 hPa', 'time': '2020-04-02 19:51:09'}, {'tweet': 'InSight sol 478 (2020-03-31) low -93.3ºC (-135.9ºF) high -8.5ºC (16.7ºF)\\nwinds from the S at 6.1 m/s (13.6 mph) gusting to 18.1 m/s (40.5 mph)\\npressure at 6.50 hPa', 'time': '2020-04-01 07:51:18'}], 'mars_hemispheres': [{'title': 'Cerberus Hemisphere', 'img_url': 'http://astropedia.astrogeology.usgs.gov/download/Mars/Viking/cerberus_enhanced.tif/full.jpg'}, {'title': 'Schiaparelli Hemisphere', 'img_url': 'http://astropedia.astrogeology.usgs.gov/download/Mars/Viking/schiaparelli_enhanced.tif/full.jpg'}, {'title': 'Syrtis Major Hemisphere', 'img_url': 'http://astropedia.astrogeology.usgs.gov/download/Mars/Viking/syrtis_major_enhanced.tif/full.jpg'}, {'title': 'Valles Marineris Hemisphere', 'img_url': 'http://astropedia.astrogeology.usgs.gov/download/Mars/Viking/valles_marineris_enhanced.tif/full.jpg'}], 'mars_news_links': ['https://mars.nasa.gov/news/8645/mars-helicopter-attached-to-nasas-perseverance-rover/', 'https://mars.nasa.gov/news/8641/nasas-perseverance-mars-rover-gets-its-wheels-and-air-brakes/', 'https://mars.nasa.gov/news/8634/109-million-names-now-aboard-nasas-perseverance-mars-rover/', 'https://mars.nasa.gov/news/8622/virginia-middle-school-student-earns-honor-of-naming-nasas-next-mars-rover/', 'https://mars.nasa.gov/news/8606/nasa-prepares-for-moon-and-mars-with-new-addition-to-its-deep-space-network/', 'https://mars.nasa.gov/news/8603/nasa-administrator-statement-on-moon-to-mars-initiative-fy-2021-budget/']}\n"
     ]
    }
   ],
   "source": [
    "mars_data[\"mars_news_headlines\"] = headlines\n",
    "mars_data[\"mars_news_desc\"] = descriptions\n",
    "mars_data[\"mars_news_links\"] = news_links\n",
    "mars_data[\"mars_image\"] = featured_image_url\n",
    "mars_data[\"mars_tweets\"] = mars_tweets\n",
    "mars_data[\"mars_hemispheres\"] = hemisphere_image_urls\n",
    "\n",
    "print(mars_data)"
   ]
  },
  {
   "cell_type": "code",
   "execution_count": null,
   "metadata": {},
   "outputs": [],
   "source": []
  }
 ],
 "metadata": {
  "kernelspec": {
   "display_name": "Python 3",
   "language": "python",
   "name": "python3"
  },
  "language_info": {
   "codemirror_mode": {
    "name": "ipython",
    "version": 3
   },
   "file_extension": ".py",
   "mimetype": "text/x-python",
   "name": "python",
   "nbconvert_exporter": "python",
   "pygments_lexer": "ipython3",
   "version": "3.7.4"
  }
 },
 "nbformat": 4,
 "nbformat_minor": 4
}
